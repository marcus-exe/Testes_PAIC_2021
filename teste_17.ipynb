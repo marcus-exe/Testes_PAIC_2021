{
 "cells": [
  {
   "cell_type": "markdown",
   "metadata": {},
   "source": [
    "## Importando as Bibliotecas"
   ]
  },
  {
   "cell_type": "code",
   "execution_count": 19,
   "metadata": {},
   "outputs": [],
   "source": [
    "#Essa aqui serve para a parte dos Diretórios\n",
    "import os  \n",
    "\n",
    "#Essa aqui vai fazer o Espectograma\n",
    "import librosa\n",
    "import librosa.display\n",
    "import IPython.display as ipd\n",
    "import matplotlib.pyplot as plt\n",
    "import matplotlib.image as mpimg"
   ]
  },
  {
   "cell_type": "markdown",
   "metadata": {},
   "source": [
    "### Esse código é para filtrar os Warnings do Librosa"
   ]
  },
  {
   "cell_type": "code",
   "execution_count": 20,
   "metadata": {},
   "outputs": [],
   "source": [
    "\n",
    "from warnings import simplefilter\n",
    "simplefilter(action='ignore', category=FutureWarning)"
   ]
  },
  {
   "cell_type": "markdown",
   "metadata": {},
   "source": [
    "### Aqui temos as listas com os vídeos"
   ]
  },
  {
   "cell_type": "code",
   "execution_count": 21,
   "metadata": {},
   "outputs": [],
   "source": [
    "lista_sem_furo = ['01', '02', '04', '05', '07']\n",
    "lista_com_furo = ['03', '06']\n"
   ]
  },
  {
   "cell_type": "markdown",
   "metadata": {},
   "source": [
    "Tive que colocar para evitar problemas durante as iterações"
   ]
  },
  {
   "cell_type": "code",
   "execution_count": 22,
   "metadata": {},
   "outputs": [],
   "source": [
    "global path\n",
    "global h\n",
    "global s"
   ]
  },
  {
   "cell_type": "markdown",
   "metadata": {},
   "source": [
    "## Função para Plotar e Salvar a Imagem "
   ]
  },
  {
   "cell_type": "code",
   "execution_count": 23,
   "metadata": {},
   "outputs": [],
   "source": [
    "\n",
    "def espectograma():\n",
    "    global h\n",
    "    \n",
    "    path_2 = (path+\"\\\\\"+dir_list[j])\n",
    "    scale_file = path_2\n",
    "    scale, sr = librosa.load(scale_file)\n",
    "    filter_banks = librosa.filters.mel(n_fft=2048, sr=22050, n_mels=10)\n",
    "    mel_spectrogram = librosa.feature.melspectrogram(scale, sr=sr, n_fft=2048, hop_length=512, n_mels=10)\n",
    "    log_mel_spectrogram = librosa.power_to_db(mel_spectrogram)\n",
    "    plt.figure(figsize=(25, 25))\n",
    "    librosa.display.specshow(log_mel_spectrogram,  \n",
    "                            sr=sr)\n",
    "\n",
    "    #Isso aqui é para o nome                        \n",
    "    if h == 0:\n",
    "        s = str(\"000\")\n",
    "    if 0 < h < 10:\n",
    "        s = str(\"00\"+ str(h))\n",
    "    if 10 <= h < 100:\n",
    "        s = str(\"0\"+ str(h))\n",
    "    if h >= 100:\n",
    "        s = str(h)\n",
    "\n",
    "    save = r'D:\\IC - Prof Rubelmar\\Dataset Soldagem\\Audio Soldagem Edição 2\\Testes\\Espectograma Tudo Junto\\Não Furou' + '\\\\' + str(s) + \".png\"\n",
    "    \n",
    "    #esses 2 são usado para ver como está a leitura dos diretórios\n",
    "    #print(path_2)\n",
    "    #print(save)\n",
    "\n",
    "\n",
    "    plt.savefig(save) #esse aqui salva a figura    \n",
    "    #plt.show() #geralmente vem depois do savefig()\n",
    "    plt.close() #estou usando esse ao invés do show pois não quero mostrar as imagens toda vez\n",
    "  \n",
    "#espectograma()"
   ]
  },
  {
   "cell_type": "markdown",
   "metadata": {},
   "source": [
    "## Iteração para Automatizar o processo"
   ]
  },
  {
   "cell_type": "markdown",
   "metadata": {},
   "source": [
    "eu gosto de usar print quando faço essas iterações mais cabeludas\\\n",
    "só para garantir que os resultados estão ocorrendo como esperado"
   ]
  },
  {
   "cell_type": "code",
   "execution_count": 24,
   "metadata": {},
   "outputs": [],
   "source": [
    "i = 0 # essa variável é um contador para a lista de furou ou não furou\n",
    "h = 0 # essa variável é um contador para o número de imagens geral\n",
    "\n",
    "for i in range (len(lista_sem_furo)):\n",
    "    path_1 = r'D:\\IC - Prof Rubelmar\\Dataset Soldagem\\Audio Soldagem Edição 2\\Testes\\Não Furou'\n",
    "    path = path_1 + '\\\\' +  str(lista_sem_furo[i])\n",
    "    dir_list = os.listdir(path)\n",
    "    #print(path)\n",
    "    j = 0 # essa variável é um contador para os áudios dentro da lista \n",
    "    for j in range(len(dir_list)):\n",
    "        \n",
    "        espectograma()\n",
    "        h +=1\n",
    "        #print(h)\n",
    "        #print(path)\n",
    "    \n",
    "    #print(dir_list)\n",
    "    #print(len(dir_list)) \n",
    "    i += 1\n",
    "    \n",
    "\n"
   ]
  }
 ],
 "metadata": {
  "interpreter": {
   "hash": "c0e737f37600637403f11a3ab9880bbb3dca0ba1d80064f9df6e480d1ba7b6d3"
  },
  "kernelspec": {
   "display_name": "Python 3.8.5 ('myenv')",
   "language": "python",
   "name": "python3"
  },
  "language_info": {
   "codemirror_mode": {
    "name": "ipython",
    "version": 3
   },
   "file_extension": ".py",
   "mimetype": "text/x-python",
   "name": "python",
   "nbconvert_exporter": "python",
   "pygments_lexer": "ipython3",
   "version": "3.9.11"
  },
  "orig_nbformat": 4
 },
 "nbformat": 4,
 "nbformat_minor": 2
}
