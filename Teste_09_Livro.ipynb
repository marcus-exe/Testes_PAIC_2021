{
 "cells": [
  {
   "cell_type": "markdown",
   "metadata": {},
   "source": [
    "# Data Driven Science and Engineering"
   ]
  },
  {
   "cell_type": "markdown",
   "metadata": {},
   "source": [
    "## Cap 01 - SVD"
   ]
  },
  {
   "cell_type": "code",
   "execution_count": 10,
   "metadata": {},
   "outputs": [],
   "source": [
    "import numpy as np\n",
    "X = np.random.rand(5,3)  #create ramdom data matrix\n",
    "U, S, V = np.linalg.svd(X, full_matrices=True)  #Full SVD\n",
    "Uhat, Shat, Vhat = np.linalg.svd(X, full_matrices=False) #Economy SVD"
   ]
  },
  {
   "cell_type": "markdown",
   "metadata": {},
   "source": [
    "### Full SVD"
   ]
  },
  {
   "cell_type": "code",
   "execution_count": 11,
   "metadata": {},
   "outputs": [
    {
     "name": "stdout",
     "output_type": "stream",
     "text": [
      "[[-0.42662315 -0.40140197  0.73417878 -0.3157909  -0.13463565]\n",
      " [-0.3761024   0.62021859 -0.12876473 -0.32734165 -0.5917288 ]\n",
      " [-0.59688787 -0.446464   -0.4456639   0.43731758 -0.23352044]\n",
      " [-0.05015557  0.38324199  0.49400279  0.77223409 -0.10112247]\n",
      " [-0.56369226  0.32863481 -0.04178621 -0.0743734   0.7529759 ]]\n"
     ]
    }
   ],
   "source": [
    "print(U)"
   ]
  },
  {
   "cell_type": "code",
   "execution_count": 12,
   "metadata": {},
   "outputs": [
    {
     "name": "stdout",
     "output_type": "stream",
     "text": [
      "[2.08109217 0.75796378 0.20720474]\n"
     ]
    }
   ],
   "source": [
    "print(S)"
   ]
  },
  {
   "cell_type": "code",
   "execution_count": 13,
   "metadata": {},
   "outputs": [
    {
     "name": "stdout",
     "output_type": "stream",
     "text": [
      "[[-0.28229277 -0.65836189 -0.697761  ]\n",
      " [ 0.89507686  0.08095238 -0.43850213]\n",
      " [ 0.34517851 -0.74833571  0.56643223]]\n"
     ]
    }
   ],
   "source": [
    "print(V)"
   ]
  },
  {
   "cell_type": "markdown",
   "metadata": {},
   "source": [
    "### Economy SVD"
   ]
  },
  {
   "cell_type": "code",
   "execution_count": 14,
   "metadata": {},
   "outputs": [
    {
     "name": "stdout",
     "output_type": "stream",
     "text": [
      "[[-0.42662315 -0.40140197  0.73417878]\n",
      " [-0.3761024   0.62021859 -0.12876473]\n",
      " [-0.59688787 -0.446464   -0.4456639 ]\n",
      " [-0.05015557  0.38324199  0.49400279]\n",
      " [-0.56369226  0.32863481 -0.04178621]]\n"
     ]
    }
   ],
   "source": [
    "print(Uhat)"
   ]
  },
  {
   "cell_type": "code",
   "execution_count": 15,
   "metadata": {},
   "outputs": [
    {
     "name": "stdout",
     "output_type": "stream",
     "text": [
      "[2.08109217 0.75796378 0.20720474]\n"
     ]
    }
   ],
   "source": [
    "print(Shat)"
   ]
  },
  {
   "cell_type": "code",
   "execution_count": 16,
   "metadata": {},
   "outputs": [
    {
     "name": "stdout",
     "output_type": "stream",
     "text": [
      "[[-0.28229277 -0.65836189 -0.697761  ]\n",
      " [ 0.89507686  0.08095238 -0.43850213]\n",
      " [ 0.34517851 -0.74833571  0.56643223]]\n"
     ]
    }
   ],
   "source": [
    "print(Vhat)"
   ]
  }
 ],
 "metadata": {
  "interpreter": {
   "hash": "c149e208480b0a7ebcc5c9321bb186d519c6a8f848c0a1a61efe8dd364648b94"
  },
  "kernelspec": {
   "display_name": "Python 3.9.11 ('scienv')",
   "language": "python",
   "name": "python3"
  },
  "language_info": {
   "codemirror_mode": {
    "name": "ipython",
    "version": 3
   },
   "file_extension": ".py",
   "mimetype": "text/x-python",
   "name": "python",
   "nbconvert_exporter": "python",
   "pygments_lexer": "ipython3",
   "version": "3.9.11"
  },
  "orig_nbformat": 4
 },
 "nbformat": 4,
 "nbformat_minor": 2
}
