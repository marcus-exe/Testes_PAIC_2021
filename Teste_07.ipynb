{
 "cells": [
  {
   "cell_type": "markdown",
   "metadata": {},
   "source": [
    "### Bibliotecas Instaladas"
   ]
  },
  {
   "cell_type": "code",
   "execution_count": 85,
   "metadata": {},
   "outputs": [],
   "source": [
    "import pandas as pd #Pandas para carregamento do conjunto de dados\n",
    "import seaborn as sns\n",
    "import numpy as np\n",
    "%matplotlib inline"
   ]
  },
  {
   "cell_type": "markdown",
   "metadata": {},
   "source": [
    "### Data Loading"
   ]
  },
  {
   "cell_type": "code",
   "execution_count": 86,
   "metadata": {},
   "outputs": [],
   "source": [
    "#Aqui vamos ler uma arquivo de Excel para começarmos a tratar os dados e as variáveis\n",
    "data = pd.read_excel(r\"D:\\OCEAN\\Dataset\\Rubelmar\\treinamento_cordoes.xlsx\" , index_col = 0)\n"
   ]
  },
  {
   "cell_type": "markdown",
   "metadata": {},
   "source": [
    "### Data Visualization"
   ]
  },
  {
   "cell_type": "code",
   "execution_count": 87,
   "metadata": {},
   "outputs": [
    {
     "data": {
      "text/html": [
       "<div>\n",
       "<style scoped>\n",
       "    .dataframe tbody tr th:only-of-type {\n",
       "        vertical-align: middle;\n",
       "    }\n",
       "\n",
       "    .dataframe tbody tr th {\n",
       "        vertical-align: top;\n",
       "    }\n",
       "\n",
       "    .dataframe thead th {\n",
       "        text-align: right;\n",
       "    }\n",
       "</style>\n",
       "<table border=\"1\" class=\"dataframe\">\n",
       "  <thead>\n",
       "    <tr style=\"text-align: right;\">\n",
       "      <th></th>\n",
       "      <th>Et</th>\n",
       "      <th>Tipo</th>\n",
       "      <th>Furo</th>\n",
       "      <th>Gas</th>\n",
       "      <th>Diam</th>\n",
       "      <th>u</th>\n",
       "      <th>v</th>\n",
       "      <th>t_arco</th>\n",
       "      <th>u.1</th>\n",
       "      <th>i</th>\n",
       "      <th>v.1</th>\n",
       "      <th>tempo_t</th>\n",
       "      <th>ciclo_trabalho</th>\n",
       "      <th>interrupções</th>\n",
       "      <th>energia_total</th>\n",
       "    </tr>\n",
       "    <tr>\n",
       "      <th>cp</th>\n",
       "      <th></th>\n",
       "      <th></th>\n",
       "      <th></th>\n",
       "      <th></th>\n",
       "      <th></th>\n",
       "      <th></th>\n",
       "      <th></th>\n",
       "      <th></th>\n",
       "      <th></th>\n",
       "      <th></th>\n",
       "      <th></th>\n",
       "      <th></th>\n",
       "      <th></th>\n",
       "      <th></th>\n",
       "      <th></th>\n",
       "    </tr>\n",
       "  </thead>\n",
       "  <tbody>\n",
       "    <tr>\n",
       "      <th>2</th>\n",
       "      <td>fc</td>\n",
       "      <td>1°</td>\n",
       "      <td>Não</td>\n",
       "      <td>Ar</td>\n",
       "      <td>Maior</td>\n",
       "      <td>4</td>\n",
       "      <td>9</td>\n",
       "      <td>7.7786</td>\n",
       "      <td>15.529282</td>\n",
       "      <td>256.051236</td>\n",
       "      <td>7.722713</td>\n",
       "      <td>8.7230</td>\n",
       "      <td>0.891734</td>\n",
       "      <td>27</td>\n",
       "      <td>27562.852404</td>\n",
       "    </tr>\n",
       "    <tr>\n",
       "      <th>2</th>\n",
       "      <td>fc</td>\n",
       "      <td>2°</td>\n",
       "      <td>Sim</td>\n",
       "      <td>Ar</td>\n",
       "      <td>Maior</td>\n",
       "      <td>4</td>\n",
       "      <td>9</td>\n",
       "      <td>6.7134</td>\n",
       "      <td>16.111797</td>\n",
       "      <td>237.984484</td>\n",
       "      <td>7.426446</td>\n",
       "      <td>7.1168</td>\n",
       "      <td>0.943317</td>\n",
       "      <td>5</td>\n",
       "      <td>23767.347607</td>\n",
       "    </tr>\n",
       "    <tr>\n",
       "      <th>3</th>\n",
       "      <td>fc</td>\n",
       "      <td>1°</td>\n",
       "      <td>Não</td>\n",
       "      <td>Ar</td>\n",
       "      <td>Maior</td>\n",
       "      <td>5</td>\n",
       "      <td>5</td>\n",
       "      <td>7.4672</td>\n",
       "      <td>23.069799</td>\n",
       "      <td>135.090920</td>\n",
       "      <td>1.412267</td>\n",
       "      <td>17.6674</td>\n",
       "      <td>0.422654</td>\n",
       "      <td>34</td>\n",
       "      <td>23359.194766</td>\n",
       "    </tr>\n",
       "    <tr>\n",
       "      <th>3</th>\n",
       "      <td>fc</td>\n",
       "      <td>2°</td>\n",
       "      <td>Não</td>\n",
       "      <td>Ar</td>\n",
       "      <td>Maior</td>\n",
       "      <td>5</td>\n",
       "      <td>5</td>\n",
       "      <td>7.3786</td>\n",
       "      <td>23.322624</td>\n",
       "      <td>127.537741</td>\n",
       "      <td>1.406391</td>\n",
       "      <td>18.1418</td>\n",
       "      <td>0.406718</td>\n",
       "      <td>29</td>\n",
       "      <td>22239.599199</td>\n",
       "    </tr>\n",
       "    <tr>\n",
       "      <th>4</th>\n",
       "      <td>fc</td>\n",
       "      <td>1°</td>\n",
       "      <td>Sim</td>\n",
       "      <td>Ar</td>\n",
       "      <td>Maior</td>\n",
       "      <td>5</td>\n",
       "      <td>9</td>\n",
       "      <td>5.4818</td>\n",
       "      <td>20.072319</td>\n",
       "      <td>238.922962</td>\n",
       "      <td>7.576412</td>\n",
       "      <td>7.2680</td>\n",
       "      <td>0.754238</td>\n",
       "      <td>16</td>\n",
       "      <td>25026.993814</td>\n",
       "    </tr>\n",
       "  </tbody>\n",
       "</table>\n",
       "</div>"
      ],
      "text/plain": [
       "    Et Tipo Furo Gas   Diam  u  v  t_arco        u.1           i       v.1  \\\n",
       "cp                                                                           \n",
       "2   fc   1°  Não  Ar  Maior  4  9  7.7786  15.529282  256.051236  7.722713   \n",
       "2   fc   2°  Sim  Ar  Maior  4  9  6.7134  16.111797  237.984484  7.426446   \n",
       "3   fc   1°  Não  Ar  Maior  5  5  7.4672  23.069799  135.090920  1.412267   \n",
       "3   fc   2°  Não  Ar  Maior  5  5  7.3786  23.322624  127.537741  1.406391   \n",
       "4   fc   1°  Sim  Ar  Maior  5  9  5.4818  20.072319  238.922962  7.576412   \n",
       "\n",
       "    tempo_t  ciclo_trabalho  interrupções  energia_total  \n",
       "cp                                                        \n",
       "2    8.7230        0.891734            27   27562.852404  \n",
       "2    7.1168        0.943317             5   23767.347607  \n",
       "3   17.6674        0.422654            34   23359.194766  \n",
       "3   18.1418        0.406718            29   22239.599199  \n",
       "4    7.2680        0.754238            16   25026.993814  "
      ]
     },
     "execution_count": 87,
     "metadata": {},
     "output_type": "execute_result"
    }
   ],
   "source": [
    "#Mostrar primerias 5 colunas\n",
    "data.head()"
   ]
  },
  {
   "cell_type": "code",
   "execution_count": 88,
   "metadata": {},
   "outputs": [
    {
     "data": {
      "text/html": [
       "<div>\n",
       "<style scoped>\n",
       "    .dataframe tbody tr th:only-of-type {\n",
       "        vertical-align: middle;\n",
       "    }\n",
       "\n",
       "    .dataframe tbody tr th {\n",
       "        vertical-align: top;\n",
       "    }\n",
       "\n",
       "    .dataframe thead th {\n",
       "        text-align: right;\n",
       "    }\n",
       "</style>\n",
       "<table border=\"1\" class=\"dataframe\">\n",
       "  <thead>\n",
       "    <tr style=\"text-align: right;\">\n",
       "      <th></th>\n",
       "      <th>Et</th>\n",
       "      <th>Tipo</th>\n",
       "      <th>Furo</th>\n",
       "      <th>Gas</th>\n",
       "      <th>Diam</th>\n",
       "      <th>u</th>\n",
       "      <th>v</th>\n",
       "      <th>t_arco</th>\n",
       "      <th>u.1</th>\n",
       "      <th>i</th>\n",
       "      <th>v.1</th>\n",
       "      <th>tempo_t</th>\n",
       "      <th>ciclo_trabalho</th>\n",
       "      <th>interrupções</th>\n",
       "      <th>energia_total</th>\n",
       "    </tr>\n",
       "    <tr>\n",
       "      <th>cp</th>\n",
       "      <th></th>\n",
       "      <th></th>\n",
       "      <th></th>\n",
       "      <th></th>\n",
       "      <th></th>\n",
       "      <th></th>\n",
       "      <th></th>\n",
       "      <th></th>\n",
       "      <th></th>\n",
       "      <th></th>\n",
       "      <th></th>\n",
       "      <th></th>\n",
       "      <th></th>\n",
       "      <th></th>\n",
       "      <th></th>\n",
       "    </tr>\n",
       "  </thead>\n",
       "  <tbody>\n",
       "    <tr>\n",
       "      <th>22</th>\n",
       "      <td>ex</td>\n",
       "      <td>2°</td>\n",
       "      <td>Sim</td>\n",
       "      <td>Ar</td>\n",
       "      <td>Maior</td>\n",
       "      <td>5</td>\n",
       "      <td>7</td>\n",
       "      <td>5.0824</td>\n",
       "      <td>21.263082</td>\n",
       "      <td>181.566372</td>\n",
       "      <td>4.762359</td>\n",
       "      <td>5.4470</td>\n",
       "      <td>0.933064</td>\n",
       "      <td>2</td>\n",
       "      <td>19697.616418</td>\n",
       "    </tr>\n",
       "    <tr>\n",
       "      <th>23</th>\n",
       "      <td>ex</td>\n",
       "      <td>1°</td>\n",
       "      <td>Não</td>\n",
       "      <td>Ar</td>\n",
       "      <td>Menor</td>\n",
       "      <td>4</td>\n",
       "      <td>7</td>\n",
       "      <td>9.8296</td>\n",
       "      <td>19.333369</td>\n",
       "      <td>105.046360</td>\n",
       "      <td>4.500873</td>\n",
       "      <td>14.1524</td>\n",
       "      <td>0.694554</td>\n",
       "      <td>173</td>\n",
       "      <td>19891.163571</td>\n",
       "    </tr>\n",
       "    <tr>\n",
       "      <th>23</th>\n",
       "      <td>ex</td>\n",
       "      <td>2°</td>\n",
       "      <td>Não</td>\n",
       "      <td>Ar</td>\n",
       "      <td>Menor</td>\n",
       "      <td>4</td>\n",
       "      <td>7</td>\n",
       "      <td>9.0706</td>\n",
       "      <td>19.717527</td>\n",
       "      <td>98.726511</td>\n",
       "      <td>4.384289</td>\n",
       "      <td>16.5522</td>\n",
       "      <td>0.548000</td>\n",
       "      <td>78</td>\n",
       "      <td>17852.863558</td>\n",
       "    </tr>\n",
       "    <tr>\n",
       "      <th>24</th>\n",
       "      <td>ex</td>\n",
       "      <td>1°</td>\n",
       "      <td>Não</td>\n",
       "      <td>Ar</td>\n",
       "      <td>Menor</td>\n",
       "      <td>5</td>\n",
       "      <td>7</td>\n",
       "      <td>6.0450</td>\n",
       "      <td>23.022218</td>\n",
       "      <td>115.534215</td>\n",
       "      <td>4.375145</td>\n",
       "      <td>12.5830</td>\n",
       "      <td>0.480410</td>\n",
       "      <td>77</td>\n",
       "      <td>16591.749844</td>\n",
       "    </tr>\n",
       "    <tr>\n",
       "      <th>24</th>\n",
       "      <td>ex</td>\n",
       "      <td>2°</td>\n",
       "      <td>Não</td>\n",
       "      <td>Ar</td>\n",
       "      <td>Menor</td>\n",
       "      <td>5</td>\n",
       "      <td>7</td>\n",
       "      <td>5.7988</td>\n",
       "      <td>23.171592</td>\n",
       "      <td>109.538104</td>\n",
       "      <td>4.487649</td>\n",
       "      <td>12.5018</td>\n",
       "      <td>0.463837</td>\n",
       "      <td>86</td>\n",
       "      <td>15371.833738</td>\n",
       "    </tr>\n",
       "  </tbody>\n",
       "</table>\n",
       "</div>"
      ],
      "text/plain": [
       "    Et Tipo Furo Gas   Diam  u  v  t_arco        u.1           i       v.1  \\\n",
       "cp                                                                           \n",
       "22  ex   2°  Sim  Ar  Maior  5  7  5.0824  21.263082  181.566372  4.762359   \n",
       "23  ex   1°  Não  Ar  Menor  4  7  9.8296  19.333369  105.046360  4.500873   \n",
       "23  ex   2°  Não  Ar  Menor  4  7  9.0706  19.717527   98.726511  4.384289   \n",
       "24  ex   1°  Não  Ar  Menor  5  7  6.0450  23.022218  115.534215  4.375145   \n",
       "24  ex   2°  Não  Ar  Menor  5  7  5.7988  23.171592  109.538104  4.487649   \n",
       "\n",
       "    tempo_t  ciclo_trabalho  interrupções  energia_total  \n",
       "cp                                                        \n",
       "22   5.4470        0.933064             2   19697.616418  \n",
       "23  14.1524        0.694554           173   19891.163571  \n",
       "23  16.5522        0.548000            78   17852.863558  \n",
       "24  12.5830        0.480410            77   16591.749844  \n",
       "24  12.5018        0.463837            86   15371.833738  "
      ]
     },
     "execution_count": 88,
     "metadata": {},
     "output_type": "execute_result"
    }
   ],
   "source": [
    "#mostrar últimas 5 linhas\n",
    "data.tail()"
   ]
  },
  {
   "cell_type": "code",
   "execution_count": 89,
   "metadata": {},
   "outputs": [
    {
     "data": {
      "text/plain": [
       "(42, 15)"
      ]
     },
     "execution_count": 89,
     "metadata": {},
     "output_type": "execute_result"
    }
   ],
   "source": [
    "# verificar o formato do dataset\n",
    "data.shape"
   ]
  },
  {
   "cell_type": "markdown",
   "metadata": {},
   "source": [
    "Plotar um Gráfico do comportamento de certas variáveis em funções de outras variáveis\n",
    "https://seaborn.pydata.org/tutorial/regression.html"
   ]
  },
  {
   "cell_type": "code",
   "execution_count": 90,
   "metadata": {},
   "outputs": [
    {
     "data": {
      "text/plain": [
       "<seaborn.axisgrid.PairGrid at 0x1cf93104f10>"
      ]
     },
     "execution_count": 90,
     "metadata": {},
     "output_type": "execute_result"
    },
    {
     "data": {
      "image/png": "[encoded data removed]",
      "text/plain": [
       "<Figure size 1058.4x504 with 3 Axes>"
      ]
     },
     "metadata": {
      "needs_background": "light"
     },
     "output_type": "display_data"
    }
   ],
   "source": [
    "#Aqui temos uma regressão kind = reg\n",
    "#Bug - os dados do primeiro gráfico não estão funcionando como deveriam\n",
    "sns.pairplot(data, x_vars=['energia_total', 'v.1','u.1'], y_vars='t_arco', height=7, aspect=0.7, kind='reg')"
   ]
  },
  {
   "cell_type": "code",
   "execution_count": 91,
   "metadata": {},
   "outputs": [
    {
     "data": {
      "text/plain": [
       "<seaborn.axisgrid.PairGrid at 0x1cf931140d0>"
      ]
     },
     "execution_count": 91,
     "metadata": {},
     "output_type": "execute_result"
    },
    {
     "data": {
      "image/png": "[encoded data removed]",
      "text/plain": [
       "<Figure size 1058.4x504 with 3 Axes>"
      ]
     },
     "metadata": {
      "needs_background": "light"
     },
     "output_type": "display_data"
    }
   ],
   "source": [
    "sns.pairplot(data, x_vars=[ 'v.1','energia_total','u.1'], y_vars='t_arco', height=7, aspect=0.7, kind='reg')"
   ]
  },
  {
   "cell_type": "markdown",
   "metadata": {},
   "source": [
    "### Escolhendo Features"
   ]
  },
  {
   "cell_type": "code",
   "execution_count": 92,
   "metadata": {},
   "outputs": [
    {
     "data": {
      "text/html": [
       "<div>\n",
       "<style scoped>\n",
       "    .dataframe tbody tr th:only-of-type {\n",
       "        vertical-align: middle;\n",
       "    }\n",
       "\n",
       "    .dataframe tbody tr th {\n",
       "        vertical-align: top;\n",
       "    }\n",
       "\n",
       "    .dataframe thead th {\n",
       "        text-align: right;\n",
       "    }\n",
       "</style>\n",
       "<table border=\"1\" class=\"dataframe\">\n",
       "  <thead>\n",
       "    <tr style=\"text-align: right;\">\n",
       "      <th></th>\n",
       "      <th>v.1</th>\n",
       "      <th>u.1</th>\n",
       "      <th>u</th>\n",
       "      <th>v</th>\n",
       "      <th>energia_total</th>\n",
       "      <th>t_arco</th>\n",
       "    </tr>\n",
       "    <tr>\n",
       "      <th>cp</th>\n",
       "      <th></th>\n",
       "      <th></th>\n",
       "      <th></th>\n",
       "      <th></th>\n",
       "      <th></th>\n",
       "      <th></th>\n",
       "    </tr>\n",
       "  </thead>\n",
       "  <tbody>\n",
       "    <tr>\n",
       "      <th>2</th>\n",
       "      <td>7.722713</td>\n",
       "      <td>15.529282</td>\n",
       "      <td>4</td>\n",
       "      <td>9</td>\n",
       "      <td>27562.852404</td>\n",
       "      <td>7.7786</td>\n",
       "    </tr>\n",
       "    <tr>\n",
       "      <th>2</th>\n",
       "      <td>7.426446</td>\n",
       "      <td>16.111797</td>\n",
       "      <td>4</td>\n",
       "      <td>9</td>\n",
       "      <td>23767.347607</td>\n",
       "      <td>6.7134</td>\n",
       "    </tr>\n",
       "    <tr>\n",
       "      <th>3</th>\n",
       "      <td>1.412267</td>\n",
       "      <td>23.069799</td>\n",
       "      <td>5</td>\n",
       "      <td>5</td>\n",
       "      <td>23359.194766</td>\n",
       "      <td>7.4672</td>\n",
       "    </tr>\n",
       "    <tr>\n",
       "      <th>3</th>\n",
       "      <td>1.406391</td>\n",
       "      <td>23.322624</td>\n",
       "      <td>5</td>\n",
       "      <td>5</td>\n",
       "      <td>22239.599199</td>\n",
       "      <td>7.3786</td>\n",
       "    </tr>\n",
       "    <tr>\n",
       "      <th>4</th>\n",
       "      <td>7.576412</td>\n",
       "      <td>20.072319</td>\n",
       "      <td>5</td>\n",
       "      <td>9</td>\n",
       "      <td>25026.993814</td>\n",
       "      <td>5.4818</td>\n",
       "    </tr>\n",
       "  </tbody>\n",
       "</table>\n",
       "</div>"
      ],
      "text/plain": [
       "         v.1        u.1  u  v  energia_total  t_arco\n",
       "cp                                                  \n",
       "2   7.722713  15.529282  4  9   27562.852404  7.7786\n",
       "2   7.426446  16.111797  4  9   23767.347607  6.7134\n",
       "3   1.412267  23.069799  5  5   23359.194766  7.4672\n",
       "3   1.406391  23.322624  5  5   22239.599199  7.3786\n",
       "4   7.576412  20.072319  5  9   25026.993814  5.4818"
      ]
     },
     "execution_count": 92,
     "metadata": {},
     "output_type": "execute_result"
    }
   ],
   "source": [
    "# Selecionar as features\n",
    "feature_cols = ['v.1','u.1', 'u', 'v', 'energia_total', 't_arco']\n",
    "\n",
    "# Selecionar essas features Dataset\n",
    "X = data[feature_cols]\n",
    "\n",
    "# Equivalente\n",
    "X = data[['v.1','u.1', 'u', 'v', 'energia_total', 't_arco']]\n",
    "\n",
    "# Verificar o dataset\n",
    "X.head()"
   ]
  },
  {
   "cell_type": "code",
   "execution_count": 93,
   "metadata": {},
   "outputs": [
    {
     "name": "stdout",
     "output_type": "stream",
     "text": [
      "<class 'pandas.core.frame.DataFrame'>\n",
      "(42, 6)\n"
     ]
    }
   ],
   "source": [
    "# verificar o tipo e a forma de X\n",
    "print(type(X))\n",
    "print(X.shape)"
   ]
  },
  {
   "cell_type": "code",
   "execution_count": 94,
   "metadata": {},
   "outputs": [
    {
     "data": {
      "text/html": [
       "<div>\n",
       "<style scoped>\n",
       "    .dataframe tbody tr th:only-of-type {\n",
       "        vertical-align: middle;\n",
       "    }\n",
       "\n",
       "    .dataframe tbody tr th {\n",
       "        vertical-align: top;\n",
       "    }\n",
       "\n",
       "    .dataframe thead th {\n",
       "        text-align: right;\n",
       "    }\n",
       "</style>\n",
       "<table border=\"1\" class=\"dataframe\">\n",
       "  <thead>\n",
       "    <tr style=\"text-align: right;\">\n",
       "      <th></th>\n",
       "      <th>v.1</th>\n",
       "      <th>u.1</th>\n",
       "    </tr>\n",
       "    <tr>\n",
       "      <th>cp</th>\n",
       "      <th></th>\n",
       "      <th></th>\n",
       "    </tr>\n",
       "  </thead>\n",
       "  <tbody>\n",
       "    <tr>\n",
       "      <th>2</th>\n",
       "      <td>7.722713</td>\n",
       "      <td>15.529282</td>\n",
       "    </tr>\n",
       "    <tr>\n",
       "      <th>2</th>\n",
       "      <td>7.426446</td>\n",
       "      <td>16.111797</td>\n",
       "    </tr>\n",
       "    <tr>\n",
       "      <th>3</th>\n",
       "      <td>1.412267</td>\n",
       "      <td>23.069799</td>\n",
       "    </tr>\n",
       "    <tr>\n",
       "      <th>3</th>\n",
       "      <td>1.406391</td>\n",
       "      <td>23.322624</td>\n",
       "    </tr>\n",
       "    <tr>\n",
       "      <th>4</th>\n",
       "      <td>7.576412</td>\n",
       "      <td>20.072319</td>\n",
       "    </tr>\n",
       "  </tbody>\n",
       "</table>\n",
       "</div>"
      ],
      "text/plain": [
       "         v.1        u.1\n",
       "cp                     \n",
       "2   7.722713  15.529282\n",
       "2   7.426446  16.111797\n",
       "3   1.412267  23.069799\n",
       "3   1.406391  23.322624\n",
       "4   7.576412  20.072319"
      ]
     },
     "execution_count": 94,
     "metadata": {},
     "output_type": "execute_result"
    }
   ],
   "source": [
    "# Selecionar uma coluna do Dataframe\n",
    "y = data[['v.1','u.1']]\n",
    "\n",
    "# print the first 5 values\n",
    "y.head()"
   ]
  },
  {
   "cell_type": "markdown",
   "metadata": {},
   "source": [
    "### Divisão do Dataset"
   ]
  },
  {
   "cell_type": "code",
   "execution_count": 95,
   "metadata": {},
   "outputs": [],
   "source": [
    "from sklearn.model_selection import train_test_split\n",
    "X_train, X_test, y_train, y_test = train_test_split(X, y, random_state=1)"
   ]
  },
  {
   "cell_type": "code",
   "execution_count": 96,
   "metadata": {},
   "outputs": [
    {
     "name": "stdout",
     "output_type": "stream",
     "text": [
      "(31, 6)\n",
      "(31, 2)\n",
      "(11, 6)\n",
      "(11, 2)\n"
     ]
    }
   ],
   "source": [
    "#A DIUVISÃO PADRÃSO É 3/4 para treinamento e 1/4 para teste\n",
    "print(X_train.shape)\n",
    "print(y_train.shape)\n",
    "print(X_test.shape)\n",
    "print(y_test.shape)"
   ]
  },
  {
   "cell_type": "markdown",
   "metadata": {},
   "source": [
    "### Preparando o Algoritmo das Redes Neurais"
   ]
  },
  {
   "cell_type": "code",
   "execution_count": 97,
   "metadata": {},
   "outputs": [],
   "source": [
    "from sklearn.inspection import plot_partial_dependence\n",
    "from sklearn.datasets import make_friedman1\n",
    "from sklearn.linear_model import LinearRegression\n",
    "from sklearn.ensemble import RandomForestRegressor\n",
    "X, y = make_friedman1()\n",
    "est1 = LinearRegression().fit(X, y)\n",
    "est2 = RandomForestRegressor().fit(X, y)\n",
    "disp1 = plot_partial_dependence(est1, X,\n",
    "                                [1, 2])  \n",
    "disp2 = plot_partial_dependence(est2, X, [1, 2],\n",
    "                                ax=disp1.axes_) "
   ]
  },
  {
   "cell_type": "code",
   "execution_count": 98,
   "metadata": {},
   "outputs": [
    {
     "data": {
      "text/plain": [
       "LinearRegression()"
      ]
     },
     "execution_count": 98,
     "metadata": {},
     "output_type": "execute_result"
    }
   ],
   "source": [
    "# Modelo Instantâneo\n",
    "from sklearn.linear_model import LinearRegression\n",
    "\n",
    "# Iniciação Instantânea\n",
    "linreg = LinearRegression()\n",
    "\n",
    "# Fit model\n",
    "linreg.fit(X_train, y_train)"
   ]
  },
  {
   "cell_type": "code",
   "execution_count": 99,
   "metadata": {},
   "outputs": [
    {
     "name": "stdout",
     "output_type": "stream",
     "text": [
      "[ 4.44089210e-14 -1.84741111e-12]\n",
      "[[ 1.00000000e+00 -4.82396268e-18 -3.69407435e-16  4.72001533e-16\n",
      "  -2.27988114e-18 -1.11742268e-16]\n",
      " [-1.12176671e-13  1.00000000e+00 -7.20299398e-13 -7.77927125e-15\n",
      "   1.21554351e-16 -1.30889196e-16]]\n"
     ]
    }
   ],
   "source": [
    "# Printar os Coeficientes\n",
    "print(linreg.intercept_)\n",
    "print(linreg.coef_)"
   ]
  },
  {
   "cell_type": "code",
   "execution_count": 100,
   "metadata": {},
   "outputs": [
    {
     "data": {
      "text/plain": [
       "[('v.1',\n",
       "  array([ 1.00000000e+00, -4.82396268e-18, -3.69407435e-16,  4.72001533e-16,\n",
       "         -2.27988114e-18, -1.11742268e-16])),\n",
       " ('u.1',\n",
       "  array([-1.12176671e-13,  1.00000000e+00, -7.20299398e-13, -7.77927125e-15,\n",
       "          1.21554351e-16, -1.30889196e-16]))]"
      ]
     },
     "execution_count": 100,
     "metadata": {},
     "output_type": "execute_result"
    }
   ],
   "source": [
    "# Juntar os nomes com os coeficientes\n",
    "list(zip(feature_cols, linreg.coef_))"
   ]
  },
  {
   "cell_type": "code",
   "execution_count": 101,
   "metadata": {},
   "outputs": [
    {
     "name": "stdout",
     "output_type": "stream",
     "text": [
      "[[ 1.40639123 23.32262377]\n",
      " [ 1.41226719 23.06979938]\n",
      " [ 1.61244929 23.17600943]\n",
      " [ 4.38428893 19.71752693]\n",
      " [ 8.51751996 23.2419648 ]\n",
      " [ 4.20840268 22.96822123]\n",
      " [ 1.77357508 19.2093568 ]\n",
      " [ 5.0061771  16.9205817 ]\n",
      " [ 4.48820166 16.89765322]\n",
      " [ 1.65113031 23.37411573]\n",
      " [ 7.56642567 15.07127756]]\n"
     ]
    }
   ],
   "source": [
    "# Fazer as predições de acordo com o dataset\n",
    "y_pred = linreg.predict(X_test)\n",
    "print(y_pred)"
   ]
  },
  {
   "cell_type": "code",
   "execution_count": 102,
   "metadata": {},
   "outputs": [
    {
     "name": "stdout",
     "output_type": "stream",
     "text": [
      "         v.1        u.1\n",
      "cp                     \n",
      "3   1.406391  23.322624\n",
      "3   1.412267  23.069799\n",
      "15  1.612449  23.176009\n",
      "23  4.384289  19.717527\n",
      "12  8.517520  23.241965\n",
      "18  4.208403  22.968221\n",
      "13  1.773575  19.209357\n",
      "21  5.006177  16.920582\n",
      "19  4.488202  16.897653\n",
      "15  1.651130  23.374116\n",
      "14  7.566426  15.071278\n"
     ]
    }
   ],
   "source": [
    "print(y_test)"
   ]
  },
  {
   "cell_type": "code",
   "execution_count": 103,
   "metadata": {},
   "outputs": [],
   "source": [
    "# define true and predicted response values\n",
    "true = y_test\n",
    "pred = y_pred"
   ]
  },
  {
   "cell_type": "markdown",
   "metadata": {},
   "source": [
    "#### Mean Absolute Error (MAE)"
   ]
  },
  {
   "cell_type": "code",
   "execution_count": 104,
   "metadata": {},
   "outputs": [
    {
     "name": "stdout",
     "output_type": "stream",
     "text": [
      "2.0027414070579075e-13\n"
     ]
    }
   ],
   "source": [
    "# calculate MAE using scikit-learn\n",
    "from sklearn import metrics\n",
    "print(metrics.mean_absolute_error(true, pred))"
   ]
  },
  {
   "cell_type": "markdown",
   "metadata": {},
   "source": [
    "#### Mean Square Erro (MSE)"
   ]
  },
  {
   "cell_type": "code",
   "execution_count": 105,
   "metadata": {},
   "outputs": [
    {
     "name": "stdout",
     "output_type": "stream",
     "text": [
      "1.346680026823503e-25\n"
     ]
    }
   ],
   "source": [
    "# calculate MSE using scikit-learn\n",
    "print(metrics.mean_squared_error(true, pred))"
   ]
  },
  {
   "cell_type": "markdown",
   "metadata": {},
   "source": [
    "#### Root Mean Squared Error (RMSE)"
   ]
  },
  {
   "cell_type": "code",
   "execution_count": 106,
   "metadata": {},
   "outputs": [
    {
     "name": "stdout",
     "output_type": "stream",
     "text": [
      "3.669713921852088e-13\n"
     ]
    }
   ],
   "source": [
    "# calculate RMSE using scikit-learn\n",
    "print(np.sqrt(metrics.mean_squared_error(true, pred)))"
   ]
  }
 ],
 "metadata": {
  "interpreter": {
   "hash": "c149e208480b0a7ebcc5c9321bb186d519c6a8f848c0a1a61efe8dd364648b94"
  },
  "kernelspec": {
   "display_name": "Python 3.9.11 ('scienv')",
   "language": "python",
   "name": "python3"
  },
  "language_info": {
   "codemirror_mode": {
    "name": "ipython",
    "version": 3
   },
   "file_extension": ".py",
   "mimetype": "text/x-python",
   "name": "python",
   "nbconvert_exporter": "python",
   "pygments_lexer": "ipython3",
   "version": "3.9.11"
  },
  "orig_nbformat": 4
 },
 "nbformat": 4,
 "nbformat_minor": 2
}
