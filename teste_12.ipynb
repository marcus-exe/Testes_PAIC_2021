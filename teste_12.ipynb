{
 "cells": [
  {
   "cell_type": "markdown",
   "metadata": {},
   "source": [
    "## Importar Bibliotecas"
   ]
  },
  {
   "cell_type": "code",
   "execution_count": null,
   "metadata": {},
   "outputs": [],
   "source": [
    "import pandas as pd\n",
    "import numpy as np\n",
    "import tensorflow as tf\n",
    "import matplotlib as plt\n",
    "\n",
    "import os\n",
    "import PIL\n",
    "\n",
    "pd.options.mode.chained_assignment = None"
   ]
  },
  {
   "cell_type": "markdown",
   "metadata": {},
   "source": [
    "Aqui viria um código para permitir o uso de GPU, mas visto que não temos uma, por enquanto, vai ficar comentado"
   ]
  },
  {
   "cell_type": "code",
   "execution_count": null,
   "metadata": {},
   "outputs": [],
   "source": [
    "\"\"\"\"print('TensorFlow version: {}'.format(tf.__version__))\n",
    "device_name = tf.test.gpu_device_name()\n",
    "if device_name != '/device:GPU:0':\n",
    "    print('GPU device not found - On for CPU time!')\n",
    "else:\n",
    "    print('Found GPU at {}'.format(device_name))\"\"\""
   ]
  },
  {
   "cell_type": "markdown",
   "metadata": {},
   "source": [
    "## Preparar os Dados que serão usados como Input na CNN"
   ]
  },
  {
   "cell_type": "code",
   "execution_count": null,
   "metadata": {},
   "outputs": [],
   "source": [
    "path = r'D:\\IC - Prof Rubelmar\\Dataset Soldagem\\Espectogramas\\Treinamento\\Furou'\n",
    "training_img = os.listdir(path) # list all training images names\n",
    "print('There are {} images in the training directory'.format(len(training_img)))\n",
    "\n",
    "img_sz = {'width': list(),\n",
    "          'height': list()} # store image attributes for further analysis\n",
    "width, height = 1000, 1000\n",
    "\n",
    "for im in training_img:\n",
    "    img = PIL.Image.open(path+im)\n",
    "    w, h = img.size\n",
    "    if w < width:\n",
    "        width = w\n",
    "    if h < height:\n",
    "        height = h\n",
    "\n",
    "IMG_WIDTH = width\n",
    "IMG_HEIGHT = height\n",
    "IMG_CHANNELS = 3\n",
    "\n",
    "print('Min training image width: {} px'.format(IMG_WIDTH))\n",
    "print('Min training image height: {} px'.format(IMG_HEIGHT))"
   ]
  },
  {
   "cell_type": "code",
   "execution_count": null,
   "metadata": {},
   "outputs": [],
   "source": [
    "def read_and_decode(filename, reshape_dims):\n",
    "    # Read an image file to a tensor as a sequence of bytes\n",
    "    image = tf.io.read_file(filename)\n",
    "    # Convert the tensor to a 3D uint8 tensor\n",
    "    image = tf.image.decode_jpeg(image, channels=IMG_CHANNELS)\n",
    "    # Convert 3D uint8 tensor with values in [0, 1]\n",
    "    image = tf.image.convert_image_dtype(image, tf.float32)\n",
    "    # Resize the image to the desired size\n",
    "    return tf.image.resize(image, reshape_dims)\n",
    "\n",
    "def show_image(filename):\n",
    "    image = read_and_decode(filename, [IMG_HEIGHT, IMG_WIDTH])\n",
    "    plt.imshow(image.numpy());\n",
    "    plt.axis('off');\n",
    "    \n",
    "def decode_csv(csv_row):\n",
    "    record_defaults = ['Id', 'Pawpularity']\n",
    "    filename, pawpularity = tf.io.decode_csv(csv_row, record_defaults)\n",
    "    pawpularity = tf.convert_to_tensor(np.float(pawpularity), dtype=tf.float32)\n",
    "    image = read_and_decode(filename, [IMG_HEIGHT, IMG_WIDTH])\n",
    "    return image, pawpularity"
   ]
  }
 ],
 "metadata": {
  "interpreter": {
   "hash": "c149e208480b0a7ebcc5c9321bb186d519c6a8f848c0a1a61efe8dd364648b94"
  },
  "kernelspec": {
   "display_name": "Python 3.9.11 ('scienv')",
   "language": "python",
   "name": "python3"
  },
  "language_info": {
   "codemirror_mode": {
    "name": "ipython",
    "version": 3
   },
   "file_extension": ".py",
   "mimetype": "text/x-python",
   "name": "python",
   "nbconvert_exporter": "python",
   "pygments_lexer": "ipython3",
   "version": "3.9.11"
  },
  "orig_nbformat": 4
 },
 "nbformat": 4,
 "nbformat_minor": 2
}
