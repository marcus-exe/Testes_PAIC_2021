{
 "cells": [
  {
   "cell_type": "markdown",
   "metadata": {},
   "source": [
    "# Teste da Diferença entre PCA e Autoecoder\n",
    "(fonte: https://towardsdatascience.com/dimensionality-reduction-pca-versus-autoencoders-338fcaf3297d)\n",
    "(https://github.com/mungoliabhishek/PCA-versus-AE/blob/master/Workbook_upload.ipynb)"
   ]
  },
  {
   "cell_type": "markdown",
   "metadata": {},
   "source": [
    "### Bibliotecas"
   ]
  },
  {
   "cell_type": "code",
   "execution_count": null,
   "metadata": {},
   "outputs": [],
   "source": [
    "import pandas as pd\n",
    "import numpy as np\n",
    "import seaborn as sns\n",
    "import matplotlib as plt\n",
    "#PIL - Python Imaging Library\n",
    "from PIL import Image\n",
    "import math\n",
    "from sklearn.decomposition import PCA\n",
    "from sklearn.preprocessing import StandardScaler\n",
    "import random\n",
    "import cv2\n",
    "%matplotlib inline \n"
   ]
  },
  {
   "cell_type": "code",
   "execution_count": null,
   "metadata": {},
   "outputs": [],
   "source": [
    "img = Image.open('casablanca_02.jpg')\n",
    "plt.figure(figsize=(10,6))\n",
    "\n",
    "plt.imshow(img,cmap = plt.cm.gray)"
   ]
  },
  {
   "cell_type": "code",
   "execution_count": 24,
   "metadata": {},
   "outputs": [
    {
     "data": {
      "text/plain": [
       "(750, 1500)"
      ]
     },
     "execution_count": 24,
     "metadata": {},
     "output_type": "execute_result"
    }
   ],
   "source": [
    "img.height,img.width"
   ]
  }
 ],
 "metadata": {
  "interpreter": {
   "hash": "e2407352032854dd62a737b548d4d3ce224521f8ecd002c9b7dd91d684e77295"
  },
  "kernelspec": {
   "display_name": "Python 3.8.5 ('datasci-env')",
   "language": "python",
   "name": "python3"
  },
  "language_info": {
   "codemirror_mode": {
    "name": "ipython",
    "version": 3
   },
   "file_extension": ".py",
   "mimetype": "text/x-python",
   "name": "python",
   "nbconvert_exporter": "python",
   "pygments_lexer": "ipython3",
   "version": "3.9.7"
  },
  "orig_nbformat": 4
 },
 "nbformat": 4,
 "nbformat_minor": 2
}
